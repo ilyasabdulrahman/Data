{
 "cells": [
  {
   "cell_type": "code",
   "execution_count": 77,
   "id": "b723cab5",
   "metadata": {},
   "outputs": [],
   "source": [
    "import os\n",
    "from nltk.tokenize import word_tokenize\n",
    "from nltk.corpus import stopwords\n",
    "from nltk.corpus import words\n",
    "import fitz\n",
    "import re"
   ]
  },
  {
   "cell_type": "code",
   "execution_count": 78,
   "id": "c01797d5",
   "metadata": {},
   "outputs": [],
   "source": [
    "# change to your computer's path directory\n",
    "dir_path = \"/Users/ilyasabdulrahman/Desktop/work_docs/some_docs\""
   ]
  },
  {
   "cell_type": "code",
   "execution_count": 79,
   "id": "b5197a60",
   "metadata": {},
   "outputs": [],
   "source": [
    "def get_file_list(dir_path):\n",
    "    '''\n",
    "    This function gets the list of documents in your computer's directory.\n",
    "    Parameters: dir_path: path to your computer's located directory\n",
    "    Returns: file_list: list of documents in your computer's directory\n",
    "    '''\n",
    "    #dir_path = \"/Users/ilyasabdulrahman/Desktop/work_docs/some_docs\"\n",
    "    os.chdir(dir_path)\n",
    "    file_list = os.listdir()\n",
    "    return file_list"
   ]
  },
  {
   "cell_type": "code",
   "execution_count": 80,
   "id": "a008360c",
   "metadata": {},
   "outputs": [],
   "source": [
    "def rest_of_pages(text):\n",
    "    '''\n",
    "    Tokenizes and filters words of the page being compared to the most updated change notice page.\n",
    "    Parameters: text: the extracted text from the page being compared to the most updated change notice page.\n",
    "    Returns: filtered_other_pages: set of words filtered out with stop words of the page being compared\n",
    "    to the most updated change notice page\n",
    "    '''\n",
    "    word_list = word_tokenize(text)\n",
    "    # identifies if page is an \"old\" template of a change notice page if contains these keywords\n",
    "    if \"PRIMARY\" and \"CONTACT\" in word_list:\n",
    "        # skips first few words that would have decreased the similarity\n",
    "        word_list = word_list[30:]\n",
    "        boolean_val = True\n",
    "    else:\n",
    "        boolean_val = False\n",
    "    # only uses first 40 words used to compare the pages\n",
    "    word_list = word_list[:40]\n",
    "    filtered_other_pages = {word.lower() for word in word_list if word not in stopwords.words('english')}\n",
    "    return filtered_other_pages, boolean_val"
   ]
  },
  {
   "cell_type": "code",
   "execution_count": 81,
   "id": "8e5f02b0",
   "metadata": {},
   "outputs": [],
   "source": [
    "def calculation(filtered_first_pg, filtered_other_pages):\n",
    "    '''\n",
    "    Calculates the cosine similarity between the identified most updated change notice page and the other page.\n",
    "    Parameters: filtered_first_pg: keywords contained in the most updated change notice\n",
    "    filtered_other_pages: keywords contained in the other page\n",
    "    Returns: cosine similarity between the two pages\n",
    "    '''\n",
    "    l1 = []\n",
    "    l2 = []\n",
    "    # forms a set containing keywords of both strings \n",
    "    rvector = filtered_first_pg.union(filtered_other_pages)\n",
    "    for w in rvector:\n",
    "        if w in filtered_first_pg: \n",
    "            l1.append(1) # creates a vector/matrix\n",
    "        else: \n",
    "            l1.append(0)\n",
    "        if w in filtered_other_pages: \n",
    "            l2.append(1)\n",
    "        else: \n",
    "            l2.append(0)\n",
    "    c = 0\n",
    "    # cosine similarity formula \n",
    "    for i in range(len(rvector)):\n",
    "            c+= l1[i]*l2[i]\n",
    "    cosine = c / float((sum(l1)*sum(l2))**0.5)\n",
    "    return cosine"
   ]
  },
  {
   "cell_type": "code",
   "execution_count": 82,
   "id": "7dea66bd",
   "metadata": {},
   "outputs": [],
   "source": [
    "def write_to_file(cosine, text, new_file, boolean_val):\n",
    "    '''\n",
    "    Writes to a new file if under the identified threshold.\n",
    "    Parameters: cosine: cosine similarity between the two pages being compared\n",
    "    text: page being compared to the most updated change notice\n",
    "    new_file: file to write to\n",
    "    boolean_val: a boolean value used to determine if the page is an \"old template\" of a change notice page\n",
    "    Returns: None\n",
    "    '''\n",
    "    if cosine >= 0.58:\n",
    "        pass\n",
    "    else:\n",
    "        if boolean_val == True:\n",
    "            pass\n",
    "        else:\n",
    "            new_file.write(text)\n",
    "    return 0"
   ]
  },
  {
   "cell_type": "code",
   "execution_count": 83,
   "id": "16781f2a",
   "metadata": {},
   "outputs": [],
   "source": [
    "def page_by_page(doc, first_pg, text, new_file):\n",
    "    '''\n",
    "    Iterates through each page in the PDF document, extracting text and ignoring any outdated\n",
    "    change notice page.\n",
    "    Parameters: doc: entire readable PDF document \n",
    "    first_pg: empty string\n",
    "    text: empty string\n",
    "    new_file: file to write to\n",
    "    Returns: None\n",
    "    '''\n",
    "    page_count = 1\n",
    "    for page in doc:\n",
    "        if first_pg != \"\":\n",
    "            text = \"\"\n",
    "            text = page.get_text()\n",
    "            filtered_other_pages, boolean_val = rest_of_pages(text)\n",
    "        else:\n",
    "            first_pg += page.get_text()\n",
    "            if first_pg.find(\"Change Notice\") != -1:\n",
    "                new_file.write(first_pg)\n",
    "            word_list = word_tokenize(first_pg)\n",
    "            # only uses first 40 words used to compare the pages\n",
    "            word_list = word_list[:40]\n",
    "            # removes stop words from word_list\n",
    "            filtered_first_pg = {word.lower() for word in word_list if word not in stopwords.words('english')}\n",
    "            continue\n",
    "        cosine = calculation(filtered_first_pg, filtered_other_pages)\n",
    "        written = write_to_file(cosine, text, new_file, boolean_val)\n",
    "        page_count += 1\n",
    "        continue\n",
    "        return 0"
   ]
  },
  {
   "cell_type": "code",
   "execution_count": 84,
   "id": "749b7b7e",
   "metadata": {},
   "outputs": [],
   "source": [
    "def main():\n",
    "    page_count = 1\n",
    "    count = 1\n",
    "    file_list = get_file_list(dir_path)\n",
    "    for file_name in file_list:\n",
    "        try:\n",
    "            new_file = open(\"output\" + str(count) + \".txt\", \"w\")\n",
    "            with fitz.open(dir_path+'/' + file_name) as doc:\n",
    "                first_pg = \"\"\n",
    "                text = \"\"\n",
    "                result = page_by_page(doc, first_pg, text, new_file)\n",
    "            # increments counter to write to separate file for each pdf document\n",
    "            count += 1\n",
    "        except RuntimeError:\n",
    "            continue\n",
    "if __name__ == '__main__':\n",
    "    main()"
   ]
  }
 ],
 "metadata": {
  "kernelspec": {
   "display_name": "Python 3 (ipykernel)",
   "language": "python",
   "name": "python3"
  },
  "language_info": {
   "codemirror_mode": {
    "name": "ipython",
    "version": 3
   },
   "file_extension": ".py",
   "mimetype": "text/x-python",
   "name": "python",
   "nbconvert_exporter": "python",
   "pygments_lexer": "ipython3",
   "version": "3.8.8"
  }
 },
 "nbformat": 4,
 "nbformat_minor": 5
}
