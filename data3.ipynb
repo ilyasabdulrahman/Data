{
 "cells": [
  {
   "cell_type": "code",
   "execution_count": 66,
   "id": "059e8a01",
   "metadata": {},
   "outputs": [],
   "source": [
    "import os\n",
    "from nltk.tokenize import word_tokenize\n",
    "from nltk.corpus import stopwords\n",
    "import fitz"
   ]
  },
  {
   "cell_type": "code",
   "execution_count": 67,
   "id": "1096e405",
   "metadata": {},
   "outputs": [],
   "source": [
    "dir_path = \"/Users/ilyasabdulrahman/Desktop/work_docs/some_docs\"\n",
    "os.chdir(dir_path)\n",
    "file_list = os.listdir()"
   ]
  },
  {
   "cell_type": "code",
   "execution_count": 68,
   "id": "78234ee8",
   "metadata": {},
   "outputs": [],
   "source": [
    "count = 1\n",
    "page_count = 1\n",
    "for file_name in file_list:\n",
    "    try:\n",
    "        new_file = open(\"doc\" + str(count) + \".txt\", \"w\")\n",
    "        with fitz.open(dir_path+'/' + file_name) as doc:\n",
    "            first_pg = \"\"\n",
    "            text = \"\"\n",
    "            # loops through each page and removes all stop words\n",
    "            for page in doc:\n",
    "                if first_pg != \"\":\n",
    "                    text = \"\"\n",
    "                    text = page.get_text()\n",
    "                    word_list = word_tokenize(text)\n",
    "                    # removes stop words from word_list\n",
    "                    filtered_words2 = {word.lower() for word in word_list if word not in stopwords.words('english')}\n",
    "                else:\n",
    "                    first_pg += page.get_text()\n",
    "                    # writes to new file if first_pg contains \"Change Notice\"\n",
    "                    if first_pg.find(\"Change Notice\") != -1:\n",
    "                        new_file.write(first_pg)\n",
    "                    word_list = word_tokenize(first_pg)\n",
    "                    # removes stop words from word_list\n",
    "                    filtered_words1 = {word.lower() for word in word_list if word not in stopwords.words('english')}\n",
    "                    #if first page is unreadable, continues to the next page\n",
    "                    if first_pg == \"\":\n",
    "                        continue\n",
    "                l1 = []\n",
    "                l2 = []\n",
    "                # forms a set containing keywords of both strings \n",
    "                rvector = filtered_words1.union(filtered_words2)\n",
    "                for w in rvector:\n",
    "                    if w in filtered_words1: l1.append(1) # creates a vector/matrix\n",
    "                    else: l1.append(0)\n",
    "                    if w in filtered_words2: l2.append(1)\n",
    "                    else: l2.append(0)\n",
    "                c = 0\n",
    "                # cosine formula \n",
    "                for i in range(len(rvector)):\n",
    "                        c+= l1[i]*l2[i]\n",
    "                cosine = c / float((sum(l1)*sum(l2))**0.5)\n",
    "                # only writes to new file if not within the threshold\n",
    "                if cosine >= 0.41:\n",
    "                    # outlier on page 9 of pdf file named \"591B7700135_558491_7.pdf\"\n",
    "                    # contains many of the same keywords as the most updated change of notice\n",
    "                    # which allows the cosine of similarity to be within the threshold\n",
    "                    if cosine == 0.46561240821866673:\n",
    "                        new_file.write(text)\n",
    "                    else:\n",
    "                        pass\n",
    "                else:\n",
    "                    new_file.write(text)\n",
    "                page_count += 1\n",
    "        # resets page counter for each pdf document\n",
    "        page_count = 1\n",
    "        # increments counter to write to separate file for each pdf document\n",
    "        count += 1\n",
    "        new_file.close()\n",
    "        doc.close()\n",
    "    except:\n",
    "        continue"
   ]
  },
  {
   "cell_type": "code",
   "execution_count": null,
   "id": "ac912503",
   "metadata": {},
   "outputs": [],
   "source": []
  },
  {
   "cell_type": "code",
   "execution_count": null,
   "id": "668057e1",
   "metadata": {},
   "outputs": [],
   "source": []
  }
 ],
 "metadata": {
  "kernelspec": {
   "display_name": "Python 3 (ipykernel)",
   "language": "python",
   "name": "python3"
  },
  "language_info": {
   "codemirror_mode": {
    "name": "ipython",
    "version": 3
   },
   "file_extension": ".py",
   "mimetype": "text/x-python",
   "name": "python",
   "nbconvert_exporter": "python",
   "pygments_lexer": "ipython3",
   "version": "3.8.8"
  }
 },
 "nbformat": 4,
 "nbformat_minor": 5
}
